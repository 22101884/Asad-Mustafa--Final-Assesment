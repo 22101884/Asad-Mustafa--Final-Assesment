{
 "cells": [
  {
   "cell_type": "markdown",
   "metadata": {},
   "source": [
    "# Question 2: Supervised Learning\n"
   ]
  },
  {
   "cell_type": "markdown",
   "metadata": {},
   "source": [
    "For the second part of the assessment, we will be using supervised machine learning models on our newly built dataframe and calculate the accuracy and find the model with best accuracy."
   ]
  },
  {
   "cell_type": "code",
   "execution_count": 1,
   "metadata": {},
   "outputs": [],
   "source": [
    "# Important necessary libraries\n",
    "import pandas as pd\n",
    "import numpy as np"
   ]
  },
  {
   "cell_type": "code",
   "execution_count": 2,
   "metadata": {},
   "outputs": [],
   "source": [
    "# Loading the data into the dataframe\n",
    "df = pd.read_csv(\"quora_supervised.csv\")"
   ]
  },
  {
   "cell_type": "code",
   "execution_count": 3,
   "metadata": {},
   "outputs": [
    {
     "data": {
      "text/html": [
       "<div>\n",
       "<style scoped>\n",
       "    .dataframe tbody tr th:only-of-type {\n",
       "        vertical-align: middle;\n",
       "    }\n",
       "\n",
       "    .dataframe tbody tr th {\n",
       "        vertical-align: top;\n",
       "    }\n",
       "\n",
       "    .dataframe thead th {\n",
       "        text-align: right;\n",
       "    }\n",
       "</style>\n",
       "<table border=\"1\" class=\"dataframe\">\n",
       "  <thead>\n",
       "    <tr style=\"text-align: right;\">\n",
       "      <th></th>\n",
       "      <th>Unnamed: 0</th>\n",
       "      <th>question</th>\n",
       "      <th>Topic Number</th>\n",
       "      <th>Topic Description</th>\n",
       "    </tr>\n",
       "  </thead>\n",
       "  <tbody>\n",
       "    <tr>\n",
       "      <th>0</th>\n",
       "      <td>0</td>\n",
       "      <td>What is the step by step guide to invest in sh...</td>\n",
       "      <td>5</td>\n",
       "      <td>Humanities</td>\n",
       "    </tr>\n",
       "    <tr>\n",
       "      <th>1</th>\n",
       "      <td>1</td>\n",
       "      <td>What is the story of Kohinoor (Koh-i-Noor) Dia...</td>\n",
       "      <td>0</td>\n",
       "      <td>Education, Schools, and Learning</td>\n",
       "    </tr>\n",
       "    <tr>\n",
       "      <th>2</th>\n",
       "      <td>2</td>\n",
       "      <td>How can I increase the speed of my internet co...</td>\n",
       "      <td>3</td>\n",
       "      <td>Activities</td>\n",
       "    </tr>\n",
       "    <tr>\n",
       "      <th>3</th>\n",
       "      <td>3</td>\n",
       "      <td>Why am I mentally very lonely? How can I solve...</td>\n",
       "      <td>8</td>\n",
       "      <td>Business, Work and Careers</td>\n",
       "    </tr>\n",
       "    <tr>\n",
       "      <th>4</th>\n",
       "      <td>4</td>\n",
       "      <td>Which one dissolve in water quikly sugar, salt...</td>\n",
       "      <td>1</td>\n",
       "      <td>Science,Social Media and Technology</td>\n",
       "    </tr>\n",
       "  </tbody>\n",
       "</table>\n",
       "</div>"
      ],
      "text/plain": [
       "   Unnamed: 0                                           question  \\\n",
       "0           0  What is the step by step guide to invest in sh...   \n",
       "1           1  What is the story of Kohinoor (Koh-i-Noor) Dia...   \n",
       "2           2  How can I increase the speed of my internet co...   \n",
       "3           3  Why am I mentally very lonely? How can I solve...   \n",
       "4           4  Which one dissolve in water quikly sugar, salt...   \n",
       "\n",
       "   Topic Number                    Topic Description  \n",
       "0             5                           Humanities  \n",
       "1             0     Education, Schools, and Learning  \n",
       "2             3                           Activities  \n",
       "3             8           Business, Work and Careers  \n",
       "4             1  Science,Social Media and Technology  "
      ]
     },
     "execution_count": 3,
     "metadata": {},
     "output_type": "execute_result"
    }
   ],
   "source": [
    "df.head()"
   ]
  },
  {
   "cell_type": "code",
   "execution_count": 4,
   "metadata": {},
   "outputs": [
    {
     "data": {
      "text/plain": [
       "0    30034\n",
       "5    26185\n",
       "9    25991\n",
       "7    24475\n",
       "1    23225\n",
       "6    22291\n",
       "8    15317\n",
       "3    11819\n",
       "4    10664\n",
       "2     9999\n",
       "Name: Topic Number, dtype: int64"
      ]
     },
     "execution_count": 4,
     "metadata": {},
     "output_type": "execute_result"
    }
   ],
   "source": [
    "# Now we will do some random statistical calculations or outputs on the dataframe\n",
    "df[\"Topic Number\"].value_counts()\n",
    "# It will represent the topic number alongwith the questions in that particular topic"
   ]
  },
  {
   "cell_type": "code",
   "execution_count": 5,
   "metadata": {},
   "outputs": [
    {
     "data": {
      "text/html": [
       "<div>\n",
       "<style scoped>\n",
       "    .dataframe tbody tr th:only-of-type {\n",
       "        vertical-align: middle;\n",
       "    }\n",
       "\n",
       "    .dataframe tbody tr th {\n",
       "        vertical-align: top;\n",
       "    }\n",
       "\n",
       "    .dataframe thead th {\n",
       "        text-align: right;\n",
       "    }\n",
       "</style>\n",
       "<table border=\"1\" class=\"dataframe\">\n",
       "  <thead>\n",
       "    <tr style=\"text-align: right;\">\n",
       "      <th></th>\n",
       "      <th>Unnamed: 0</th>\n",
       "      <th>question</th>\n",
       "      <th>Topic Number</th>\n",
       "      <th>Topic Description</th>\n",
       "    </tr>\n",
       "  </thead>\n",
       "  <tbody>\n",
       "    <tr>\n",
       "      <th>194567</th>\n",
       "      <td>194567</td>\n",
       "      <td>Why does the flame of fire always go upward?</td>\n",
       "      <td>1</td>\n",
       "      <td>Science,Social Media and Technology</td>\n",
       "    </tr>\n",
       "    <tr>\n",
       "      <th>45415</th>\n",
       "      <td>45415</td>\n",
       "      <td>What's the best way to manage traffic in Citie...</td>\n",
       "      <td>0</td>\n",
       "      <td>Education, Schools, and Learning</td>\n",
       "    </tr>\n",
       "    <tr>\n",
       "      <th>171573</th>\n",
       "      <td>171573</td>\n",
       "      <td>Can we improve eyesight naturally without surg...</td>\n",
       "      <td>7</td>\n",
       "      <td>Major Concepts</td>\n",
       "    </tr>\n",
       "    <tr>\n",
       "      <th>88666</th>\n",
       "      <td>88666</td>\n",
       "      <td>When will Facebook fall as a social network?</td>\n",
       "      <td>6</td>\n",
       "      <td>Art, Design and Style</td>\n",
       "    </tr>\n",
       "    <tr>\n",
       "      <th>68382</th>\n",
       "      <td>68382</td>\n",
       "      <td>How do you build homes?</td>\n",
       "      <td>9</td>\n",
       "      <td>Life, Relationship and Self</td>\n",
       "    </tr>\n",
       "    <tr>\n",
       "      <th>161610</th>\n",
       "      <td>161610</td>\n",
       "      <td>How can I transfer my WhatsApp account from on...</td>\n",
       "      <td>3</td>\n",
       "      <td>Activities</td>\n",
       "    </tr>\n",
       "    <tr>\n",
       "      <th>83060</th>\n",
       "      <td>83060</td>\n",
       "      <td>Why are Salman Khan fans called Bhaitards?</td>\n",
       "      <td>5</td>\n",
       "      <td>Humanities</td>\n",
       "    </tr>\n",
       "    <tr>\n",
       "      <th>186573</th>\n",
       "      <td>186573</td>\n",
       "      <td>Sodium hydroxide and copper (II) sulphate reac...</td>\n",
       "      <td>5</td>\n",
       "      <td>Humanities</td>\n",
       "    </tr>\n",
       "    <tr>\n",
       "      <th>197028</th>\n",
       "      <td>197028</td>\n",
       "      <td>How can I contact Quora if I have a problem? H...</td>\n",
       "      <td>2</td>\n",
       "      <td>Engineering, Computer Science and Mathematics</td>\n",
       "    </tr>\n",
       "    <tr>\n",
       "      <th>166192</th>\n",
       "      <td>166192</td>\n",
       "      <td>Which coaching institutes are the best for CAT?</td>\n",
       "      <td>0</td>\n",
       "      <td>Education, Schools, and Learning</td>\n",
       "    </tr>\n",
       "    <tr>\n",
       "      <th>183323</th>\n",
       "      <td>183323</td>\n",
       "      <td>How do you develop your personality?</td>\n",
       "      <td>7</td>\n",
       "      <td>Major Concepts</td>\n",
       "    </tr>\n",
       "    <tr>\n",
       "      <th>164196</th>\n",
       "      <td>164196</td>\n",
       "      <td>How much does it cost to learn rifle shooting ...</td>\n",
       "      <td>7</td>\n",
       "      <td>Major Concepts</td>\n",
       "    </tr>\n",
       "    <tr>\n",
       "      <th>144181</th>\n",
       "      <td>144181</td>\n",
       "      <td>What are some games to play at a roller skatin...</td>\n",
       "      <td>7</td>\n",
       "      <td>Major Concepts</td>\n",
       "    </tr>\n",
       "    <tr>\n",
       "      <th>3887</th>\n",
       "      <td>3887</td>\n",
       "      <td>What is document cryptography?</td>\n",
       "      <td>7</td>\n",
       "      <td>Major Concepts</td>\n",
       "    </tr>\n",
       "    <tr>\n",
       "      <th>108761</th>\n",
       "      <td>108761</td>\n",
       "      <td>Who is the current Education Minister of India?</td>\n",
       "      <td>5</td>\n",
       "      <td>Humanities</td>\n",
       "    </tr>\n",
       "    <tr>\n",
       "      <th>161953</th>\n",
       "      <td>161953</td>\n",
       "      <td>How do I make peace with the fact that nothing...</td>\n",
       "      <td>4</td>\n",
       "      <td>Literature, Languages, and Communication</td>\n",
       "    </tr>\n",
       "    <tr>\n",
       "      <th>195584</th>\n",
       "      <td>195584</td>\n",
       "      <td>Are we living in the past?</td>\n",
       "      <td>9</td>\n",
       "      <td>Life, Relationship and Self</td>\n",
       "    </tr>\n",
       "    <tr>\n",
       "      <th>23104</th>\n",
       "      <td>23104</td>\n",
       "      <td>How do you recover deleted website browsing hi...</td>\n",
       "      <td>0</td>\n",
       "      <td>Education, Schools, and Learning</td>\n",
       "    </tr>\n",
       "    <tr>\n",
       "      <th>90954</th>\n",
       "      <td>90954</td>\n",
       "      <td>Who founded Gumtree.com?</td>\n",
       "      <td>3</td>\n",
       "      <td>Activities</td>\n",
       "    </tr>\n",
       "    <tr>\n",
       "      <th>178079</th>\n",
       "      <td>178079</td>\n",
       "      <td>Why does acetone break down cell membranes?</td>\n",
       "      <td>1</td>\n",
       "      <td>Science,Social Media and Technology</td>\n",
       "    </tr>\n",
       "  </tbody>\n",
       "</table>\n",
       "</div>"
      ],
      "text/plain": [
       "        Unnamed: 0                                           question  \\\n",
       "194567      194567       Why does the flame of fire always go upward?   \n",
       "45415        45415  What's the best way to manage traffic in Citie...   \n",
       "171573      171573  Can we improve eyesight naturally without surg...   \n",
       "88666        88666       When will Facebook fall as a social network?   \n",
       "68382        68382                            How do you build homes?   \n",
       "161610      161610  How can I transfer my WhatsApp account from on...   \n",
       "83060        83060         Why are Salman Khan fans called Bhaitards?   \n",
       "186573      186573  Sodium hydroxide and copper (II) sulphate reac...   \n",
       "197028      197028  How can I contact Quora if I have a problem? H...   \n",
       "166192      166192    Which coaching institutes are the best for CAT?   \n",
       "183323      183323               How do you develop your personality?   \n",
       "164196      164196  How much does it cost to learn rifle shooting ...   \n",
       "144181      144181  What are some games to play at a roller skatin...   \n",
       "3887          3887                     What is document cryptography?   \n",
       "108761      108761    Who is the current Education Minister of India?   \n",
       "161953      161953  How do I make peace with the fact that nothing...   \n",
       "195584      195584                         Are we living in the past?   \n",
       "23104        23104  How do you recover deleted website browsing hi...   \n",
       "90954        90954                           Who founded Gumtree.com?   \n",
       "178079      178079        Why does acetone break down cell membranes?   \n",
       "\n",
       "        Topic Number                              Topic Description  \n",
       "194567             1            Science,Social Media and Technology  \n",
       "45415              0               Education, Schools, and Learning  \n",
       "171573             7                                 Major Concepts  \n",
       "88666              6                          Art, Design and Style  \n",
       "68382              9                    Life, Relationship and Self  \n",
       "161610             3                                     Activities  \n",
       "83060              5                                     Humanities  \n",
       "186573             5                                     Humanities  \n",
       "197028             2  Engineering, Computer Science and Mathematics  \n",
       "166192             0               Education, Schools, and Learning  \n",
       "183323             7                                 Major Concepts  \n",
       "164196             7                                 Major Concepts  \n",
       "144181             7                                 Major Concepts  \n",
       "3887               7                                 Major Concepts  \n",
       "108761             5                                     Humanities  \n",
       "161953             4       Literature, Languages, and Communication  \n",
       "195584             9                    Life, Relationship and Self  \n",
       "23104              0               Education, Schools, and Learning  \n",
       "90954              3                                     Activities  \n",
       "178079             1            Science,Social Media and Technology  "
      ]
     },
     "execution_count": 5,
     "metadata": {},
     "output_type": "execute_result"
    }
   ],
   "source": [
    "df.sample(20)"
   ]
  },
  {
   "cell_type": "code",
   "execution_count": 6,
   "metadata": {},
   "outputs": [
    {
     "name": "stdout",
     "output_type": "stream",
     "text": [
      "<class 'pandas.core.frame.DataFrame'>\n",
      "RangeIndex: 200000 entries, 0 to 199999\n",
      "Data columns (total 4 columns):\n",
      " #   Column             Non-Null Count   Dtype \n",
      "---  ------             --------------   ----- \n",
      " 0   Unnamed: 0         200000 non-null  int64 \n",
      " 1   question           200000 non-null  object\n",
      " 2   Topic Number       200000 non-null  int64 \n",
      " 3   Topic Description  200000 non-null  object\n",
      "dtypes: int64(2), object(2)\n",
      "memory usage: 6.1+ MB\n"
     ]
    }
   ],
   "source": [
    "# Viewing the description of our dataframe\n",
    "df.info()"
   ]
  },
  {
   "cell_type": "code",
   "execution_count": 17,
   "metadata": {},
   "outputs": [
    {
     "data": {
      "text/plain": [
       "Unnamed: 0           200000\n",
       "question             200000\n",
       "Topic Number         200000\n",
       "Topic Description    200000\n",
       "dtype: int64"
      ]
     },
     "execution_count": 17,
     "metadata": {},
     "output_type": "execute_result"
    }
   ],
   "source": [
    "df.count()"
   ]
  },
  {
   "cell_type": "code",
   "execution_count": 18,
   "metadata": {},
   "outputs": [
    {
     "name": "stdout",
     "output_type": "stream",
     "text": [
      "number of duplicate rows:  (0, 4)\n"
     ]
    }
   ],
   "source": [
    "duplicate_rows_df = df[df.duplicated()]\n",
    "print(\"number of duplicate rows: \", duplicate_rows_df.shape)"
   ]
  },
  {
   "cell_type": "code",
   "execution_count": 13,
   "metadata": {},
   "outputs": [],
   "source": [
    "from matplotlib import pyplot as plt"
   ]
  },
  {
   "cell_type": "code",
   "execution_count": 15,
   "metadata": {},
   "outputs": [],
   "source": [
    "import seaborn as sns"
   ]
  },
  {
   "cell_type": "code",
   "execution_count": 16,
   "metadata": {},
   "outputs": [
    {
     "name": "stdout",
     "output_type": "stream",
     "text": [
      "count    200000.000000\n",
      "mean          4.568935\n",
      "std           3.087982\n",
      "min           0.000000\n",
      "25%           1.000000\n",
      "50%           5.000000\n",
      "75%           7.000000\n",
      "max           9.000000\n",
      "Name: Topic Number, dtype: float64\n"
     ]
    },
    {
     "name": "stderr",
     "output_type": "stream",
     "text": [
      "C:\\Users\\acer\\anaconda3\\lib\\site-packages\\seaborn\\distributions.py:2557: FutureWarning: `distplot` is a deprecated function and will be removed in a future version. Please adapt your code to use either `displot` (a figure-level function with similar flexibility) or `histplot` (an axes-level function for histograms).\n",
      "  warnings.warn(msg, FutureWarning)\n"
     ]
    },
    {
     "data": {
      "image/png": "[encoded data removed]",
      "text/plain": [
       "<Figure size 648x576 with 1 Axes>"
      ]
     },
     "metadata": {
      "needs_background": "light"
     },
     "output_type": "display_data"
    }
   ],
   "source": [
    "# Distribution of topics\n",
    "print(df['Topic Number'].describe())\n",
    "plt.figure(figsize=(9, 8))\n",
    "sns.distplot(df['Topic Number'], color='g', bins=100, hist_kws={'alpha': 0.4});"
   ]
  },
  {
   "cell_type": "code",
   "execution_count": 19,
   "metadata": {},
   "outputs": [
    {
     "data": {
      "text/plain": [
       "<AxesSubplot:xlabel='Topic Number'>"
      ]
     },
     "execution_count": 19,
     "metadata": {},
     "output_type": "execute_result"
    },
    {
     "data": {
      "image/png": "[encoded data removed]",
      "text/plain": [
       "<Figure size 432x288 with 1 Axes>"
      ]
     },
     "metadata": {
      "needs_background": "light"
     },
     "output_type": "display_data"
    }
   ],
   "source": [
    "sns.boxplot(x=df['Topic Number'])"
   ]
  },
  {
   "cell_type": "markdown",
   "metadata": {},
   "source": [
    "The next step is to preprocess the data and divide it into training and testing before going further into machine learning models. So we will do the preprocessing first."
   ]
  },
  {
   "cell_type": "code",
   "execution_count": 26,
   "metadata": {},
   "outputs": [],
   "source": [
    "# importing model for train_test split\n",
    "from sklearn.model_selection import train_test_split\n",
    "\n",
    "X_train, X_test, y_train, y_test = train_test_split(X, y, test_size=0.2, random_state=1)\n",
    "# We have divided the data into train and test"
   ]
  },
  {
   "cell_type": "code",
   "execution_count": 27,
   "metadata": {},
   "outputs": [],
   "source": [
    "# improting the model\n",
    "from sklearn.feature_extraction.text import TfidfVectorizer\n",
    "# creating an instance of model\n",
    "tfidf = TfidfVectorizer(max_df=0.90, min_df=4, stop_words=\"english\", lowercase =\"True\")\n"
   ]
  },
  {
   "cell_type": "code",
   "execution_count": 28,
   "metadata": {},
   "outputs": [],
   "source": [
    "# fitting the data into tfidf model\n",
    "y = df[\"Topic Number\"]\n",
    "X = tfidf.fit_transform(df[\"question\"])"
   ]
  },
  {
   "cell_type": "markdown",
   "metadata": {},
   "source": [
    "# Training a Logistic Regression Classifier"
   ]
  },
  {
   "cell_type": "code",
   "execution_count": 29,
   "metadata": {},
   "outputs": [],
   "source": [
    "# Step 1: Importing the model\n",
    "from sklearn.linear_model import LogisticRegression"
   ]
  },
  {
   "cell_type": "code",
   "execution_count": 30,
   "metadata": {},
   "outputs": [],
   "source": [
    "# Step 2: We need to create an instance of model we have imported\n",
    "lin_reg_model = LogisticRegression(solver='lbfgs')"
   ]
  },
  {
   "cell_type": "code",
   "execution_count": 31,
   "metadata": {},
   "outputs": [
    {
     "name": "stderr",
     "output_type": "stream",
     "text": [
      "C:\\Users\\acer\\anaconda3\\lib\\site-packages\\sklearn\\linear_model\\_logistic.py:763: ConvergenceWarning: lbfgs failed to converge (status=1):\n",
      "STOP: TOTAL NO. of ITERATIONS REACHED LIMIT.\n",
      "\n",
      "Increase the number of iterations (max_iter) or scale the data as shown in:\n",
      "    https://scikit-learn.org/stable/modules/preprocessing.html\n",
      "Please also refer to the documentation for alternative solver options:\n",
      "    https://scikit-learn.org/stable/modules/linear_model.html#logistic-regression\n",
      "  n_iter_i = _check_optimize_result(\n"
     ]
    },
    {
     "data": {
      "text/plain": [
       "LogisticRegression()"
      ]
     },
     "execution_count": 31,
     "metadata": {},
     "output_type": "execute_result"
    }
   ],
   "source": [
    "# Step 3: Fitting the data into our model instance\n",
    "lin_reg_model.fit(X_train, y_train)"
   ]
  },
  {
   "cell_type": "code",
   "execution_count": 32,
   "metadata": {},
   "outputs": [],
   "source": [
    "# Step 4: We will be testing the accuracy of the model\n",
    "# For that, import the metrics library\n",
    "from sklearn import metrics"
   ]
  },
  {
   "cell_type": "code",
   "execution_count": 33,
   "metadata": {},
   "outputs": [],
   "source": [
    "# Now we will create a prediction set and the model has not yet seen it.\n",
    "lin_reg_model_predictions = lin_reg_model.predict(X_test)\n",
    "# We will be predicting the model using the X_test"
   ]
  },
  {
   "cell_type": "code",
   "execution_count": 34,
   "metadata": {},
   "outputs": [
    {
     "data": {
      "text/plain": [
       "array([7, 8, 0, ..., 9, 0, 4], dtype=int64)"
      ]
     },
     "execution_count": 34,
     "metadata": {},
     "output_type": "execute_result"
    }
   ],
   "source": [
    "lin_reg_model_predictions"
   ]
  },
  {
   "cell_type": "code",
   "execution_count": 35,
   "metadata": {},
   "outputs": [
    {
     "name": "stdout",
     "output_type": "stream",
     "text": [
      "[[5485   56   13   11   12   63   33   75   13  212]\n",
      " [  42 4112    8   14   19   63   47   53   18  143]\n",
      " [  34   44 1763   17   10   32   28   44   19   49]\n",
      " [  64   46   10 2044    4   53   27   37   18   86]\n",
      " [  21   39    2   10 1857   47   38   31   15   59]\n",
      " [  74   78    8   12   24 4725   62   61   36  138]\n",
      " [  63   65   41   18   21  118 3866   52   26  182]\n",
      " [ 101   61   13   16   23   66   45 4443   14  114]\n",
      " [  45   51    7   14    9   83   32   40 2732   82]\n",
      " [  96  107   14   17   24  115   88   45   26 4767]]\n"
     ]
    }
   ],
   "source": [
    "# Now we will build a confusion matrix to observe the predicted output\n",
    "print(metrics.confusion_matrix(y_test, lin_reg_model_predictions))"
   ]
  },
  {
   "cell_type": "code",
   "execution_count": 36,
   "metadata": {},
   "outputs": [
    {
     "name": "stdout",
     "output_type": "stream",
     "text": [
      "              precision    recall  f1-score   support\n",
      "\n",
      "           0       0.91      0.92      0.91      5973\n",
      "           1       0.88      0.91      0.90      4519\n",
      "           2       0.94      0.86      0.90      2040\n",
      "           3       0.94      0.86      0.90      2389\n",
      "           4       0.93      0.88      0.90      2119\n",
      "           5       0.88      0.91      0.89      5218\n",
      "           6       0.91      0.87      0.89      4452\n",
      "           7       0.91      0.91      0.91      4896\n",
      "           8       0.94      0.88      0.91      3095\n",
      "           9       0.82      0.90      0.86      5299\n",
      "\n",
      "    accuracy                           0.89     40000\n",
      "   macro avg       0.91      0.89      0.90     40000\n",
      "weighted avg       0.90      0.89      0.90     40000\n",
      "\n"
     ]
    }
   ],
   "source": [
    "# Now we can build a classification report\n",
    "print(metrics.classification_report(y_test, lin_reg_model_predictions))"
   ]
  },
  {
   "cell_type": "code",
   "execution_count": 37,
   "metadata": {},
   "outputs": [
    {
     "name": "stdout",
     "output_type": "stream",
     "text": [
      "0.89485\n"
     ]
    }
   ],
   "source": [
    "# Now getting the overall accuracy of our Linear Regression Model\n",
    "print(metrics.accuracy_score(y_test,lin_reg_model_predictions))"
   ]
  },
  {
   "cell_type": "markdown",
   "metadata": {},
   "source": [
    "It can be seen above that the Linear Regression Model has an accuracy of 89.49%"
   ]
  },
  {
   "cell_type": "markdown",
   "metadata": {},
   "source": [
    "# Training a Naive Bayes Classifier"
   ]
  },
  {
   "cell_type": "code",
   "execution_count": 38,
   "metadata": {},
   "outputs": [],
   "source": [
    "# Now we will be working with Naive Bayes Classifier"
   ]
  },
  {
   "cell_type": "code",
   "execution_count": 39,
   "metadata": {},
   "outputs": [],
   "source": [
    "# Step 1: Importing the model\n",
    "from sklearn.naive_bayes import MultinomialNB"
   ]
  },
  {
   "cell_type": "code",
   "execution_count": 40,
   "metadata": {},
   "outputs": [],
   "source": [
    "# Step 2: We need to create an instance of model we have imported\n",
    "nb_model = MultinomialNB()"
   ]
  },
  {
   "cell_type": "code",
   "execution_count": 41,
   "metadata": {},
   "outputs": [
    {
     "data": {
      "text/plain": [
       "MultinomialNB()"
      ]
     },
     "execution_count": 41,
     "metadata": {},
     "output_type": "execute_result"
    }
   ],
   "source": [
    "# Step 3: Fitting the data into our model instance\n",
    "nb_model.fit(X_train, y_train)"
   ]
  },
  {
   "cell_type": "code",
   "execution_count": 42,
   "metadata": {},
   "outputs": [],
   "source": [
    "# Now getting the results from our model\n",
    "# Now we will create a prediction set and the model has not yet seen it.\n",
    "nb_model_predictions = nb_model.predict(X_test)\n",
    "# We will be predicting the model using the X_test"
   ]
  },
  {
   "cell_type": "code",
   "execution_count": 43,
   "metadata": {},
   "outputs": [
    {
     "name": "stdout",
     "output_type": "stream",
     "text": [
      "[[5032   98   39   28   17  115  109  372   15  148]\n",
      " [ 147 3329   46   43   23  237  145  135   40  374]\n",
      " [ 152   85 1333   32   10   72  103  145   13   95]\n",
      " [ 383  116   19 1266    7  112  140  127   43  176]\n",
      " [ 111  161    7    9 1252  115  127  125   17  195]\n",
      " [ 352  211   16   34   18 3899  182  183   67  256]\n",
      " [ 191  212   39   21   26  290 3118  135   28  392]\n",
      " [ 435  171   14   29   13  165  101 3769   15  184]\n",
      " [ 240  239    9   33    8  278  124  186 1751  227]\n",
      " [ 369  256   20   30   38  331  236  208   27 3784]]\n"
     ]
    }
   ],
   "source": [
    "# Presenting the results in a confusion matrix\n",
    "print(metrics.confusion_matrix(y_test, nb_model_predictions))"
   ]
  },
  {
   "cell_type": "code",
   "execution_count": 44,
   "metadata": {},
   "outputs": [
    {
     "name": "stdout",
     "output_type": "stream",
     "text": [
      "              precision    recall  f1-score   support\n",
      "\n",
      "           0       0.68      0.84      0.75      5973\n",
      "           1       0.68      0.74      0.71      4519\n",
      "           2       0.86      0.65      0.74      2040\n",
      "           3       0.83      0.53      0.65      2389\n",
      "           4       0.89      0.59      0.71      2119\n",
      "           5       0.69      0.75      0.72      5218\n",
      "           6       0.71      0.70      0.71      4452\n",
      "           7       0.70      0.77      0.73      4896\n",
      "           8       0.87      0.57      0.69      3095\n",
      "           9       0.65      0.71      0.68      5299\n",
      "\n",
      "    accuracy                           0.71     40000\n",
      "   macro avg       0.76      0.69      0.71     40000\n",
      "weighted avg       0.73      0.71      0.71     40000\n",
      "\n"
     ]
    }
   ],
   "source": [
    "# Now we can build a classification report\n",
    "print(metrics.classification_report(y_test, nb_model_predictions))"
   ]
  },
  {
   "cell_type": "code",
   "execution_count": 45,
   "metadata": {},
   "outputs": [
    {
     "name": "stdout",
     "output_type": "stream",
     "text": [
      "0.713325\n"
     ]
    }
   ],
   "source": [
    "# Now getting the overall accuracy of our Naive Bayes Classifier\n",
    "print(metrics.accuracy_score(y_test,nb_model_predictions))"
   ]
  },
  {
   "cell_type": "markdown",
   "metadata": {},
   "source": [
    "It can be seen that Naive Bayes model has an accuracy of 71.33%"
   ]
  },
  {
   "cell_type": "markdown",
   "metadata": {},
   "source": [
    "# Training a Random Forest Model"
   ]
  },
  {
   "cell_type": "code",
   "execution_count": 46,
   "metadata": {},
   "outputs": [],
   "source": [
    "# Step 1: Importing the model\n",
    "from sklearn.ensemble import RandomForestClassifier"
   ]
  },
  {
   "cell_type": "code",
   "execution_count": 47,
   "metadata": {},
   "outputs": [],
   "source": [
    "# Step 2: We need to create an instance of model we have imported\n",
    "rf_model = RandomForestClassifier()"
   ]
  },
  {
   "cell_type": "code",
   "execution_count": 48,
   "metadata": {},
   "outputs": [
    {
     "data": {
      "text/plain": [
       "RandomForestClassifier()"
      ]
     },
     "execution_count": 48,
     "metadata": {},
     "output_type": "execute_result"
    }
   ],
   "source": [
    "# Step 3: Fitting the data into our model instance\n",
    "rf_model.fit(X_train, y_train)"
   ]
  },
  {
   "cell_type": "code",
   "execution_count": 49,
   "metadata": {},
   "outputs": [],
   "source": [
    "# Now getting the results from our model\n",
    "# Now we will create a prediction set and the model has not yet seen it.\n",
    "rf_model_predictions = rf_model.predict(X_test)\n",
    "# We will be predicting the model using the X_test"
   ]
  },
  {
   "cell_type": "code",
   "execution_count": 50,
   "metadata": {},
   "outputs": [
    {
     "name": "stdout",
     "output_type": "stream",
     "text": [
      "[[5731   36   13   21   17   33   17   57    9   39]\n",
      " [ 142 4103   15   18   21   47   46   39   20   68]\n",
      " [  35   13 1880   22    5    8   23   26   11   17]\n",
      " [  65   17    9 2205    5   18    9   27   10   24]\n",
      " [  40   23    3    5 1963   18   28   20    3   16]\n",
      " [ 136   50   13   19   35 4738   42   57   21  107]\n",
      " [ 115   30   48    8   27   66 4031   40   18   69]\n",
      " [ 145   53   25   18   25   45   34 4486   17   48]\n",
      " [  61   37    4   21    9   33   26   27 2840   37]\n",
      " [ 199   66   23   30   21   89   76   63   17 4715]]\n"
     ]
    }
   ],
   "source": [
    "# Presenting the results in a confusion matrix\n",
    "print(metrics.confusion_matrix(y_test, rf_model_predictions))"
   ]
  },
  {
   "cell_type": "code",
   "execution_count": 51,
   "metadata": {},
   "outputs": [
    {
     "name": "stdout",
     "output_type": "stream",
     "text": [
      "              precision    recall  f1-score   support\n",
      "\n",
      "           0       0.86      0.96      0.91      5973\n",
      "           1       0.93      0.91      0.92      4519\n",
      "           2       0.92      0.92      0.92      2040\n",
      "           3       0.93      0.92      0.93      2389\n",
      "           4       0.92      0.93      0.92      2119\n",
      "           5       0.93      0.91      0.92      5218\n",
      "           6       0.93      0.91      0.92      4452\n",
      "           7       0.93      0.92      0.92      4896\n",
      "           8       0.96      0.92      0.94      3095\n",
      "           9       0.92      0.89      0.90      5299\n",
      "\n",
      "    accuracy                           0.92     40000\n",
      "   macro avg       0.92      0.92      0.92     40000\n",
      "weighted avg       0.92      0.92      0.92     40000\n",
      "\n"
     ]
    }
   ],
   "source": [
    "# Now we can build a classification report\n",
    "print(metrics.classification_report(y_test, rf_model_predictions))"
   ]
  },
  {
   "cell_type": "code",
   "execution_count": 52,
   "metadata": {},
   "outputs": [
    {
     "name": "stdout",
     "output_type": "stream",
     "text": [
      "0.9173\n"
     ]
    }
   ],
   "source": [
    "# Now getting the overall accuracy of our Random Forest Model\n",
    "print(metrics.accuracy_score(y_test,rf_model_predictions))"
   ]
  },
  {
   "cell_type": "markdown",
   "metadata": {},
   "source": [
    "It can be seen that Random Forest model has an accuracy of 91.73%"
   ]
  },
  {
   "cell_type": "markdown",
   "metadata": {},
   "source": [
    "# Train a Support Vector Classifier(SVC)"
   ]
  },
  {
   "cell_type": "code",
   "execution_count": 53,
   "metadata": {},
   "outputs": [],
   "source": [
    "# Step 1: Importing the model\n",
    "from sklearn.svm import SVC"
   ]
  },
  {
   "cell_type": "code",
   "execution_count": 54,
   "metadata": {},
   "outputs": [],
   "source": [
    "# Step 2: We need to create an instance of model we have imported\n",
    "svc_model = SVC(gamma=\"auto\")"
   ]
  },
  {
   "cell_type": "code",
   "execution_count": 55,
   "metadata": {},
   "outputs": [
    {
     "data": {
      "text/plain": [
       "SVC(gamma='auto')"
      ]
     },
     "execution_count": 55,
     "metadata": {},
     "output_type": "execute_result"
    }
   ],
   "source": [
    "# Step 3: Fitting the data into our model instance\n",
    "svc_model.fit(X_train, y_train)"
   ]
  },
  {
   "cell_type": "code",
   "execution_count": 56,
   "metadata": {},
   "outputs": [],
   "source": [
    "# Now getting the results from our model\n",
    "# Now we will create a prediction set and the model has not yet seen it.\n",
    "svc_model_predictions = svc_model.predict(X_test)\n",
    "# We will be predicting the model using the X_test"
   ]
  },
  {
   "cell_type": "code",
   "execution_count": 57,
   "metadata": {},
   "outputs": [
    {
     "name": "stdout",
     "output_type": "stream",
     "text": [
      "[[5973    0    0    0    0    0    0    0    0    0]\n",
      " [4519    0    0    0    0    0    0    0    0    0]\n",
      " [2040    0    0    0    0    0    0    0    0    0]\n",
      " [2389    0    0    0    0    0    0    0    0    0]\n",
      " [2119    0    0    0    0    0    0    0    0    0]\n",
      " [5218    0    0    0    0    0    0    0    0    0]\n",
      " [4452    0    0    0    0    0    0    0    0    0]\n",
      " [4896    0    0    0    0    0    0    0    0    0]\n",
      " [3095    0    0    0    0    0    0    0    0    0]\n",
      " [5299    0    0    0    0    0    0    0    0    0]]\n"
     ]
    }
   ],
   "source": [
    "# Presenting the results in a confusion matrix\n",
    "print(metrics.confusion_matrix(y_test, svc_model_predictions))"
   ]
  },
  {
   "cell_type": "code",
   "execution_count": 58,
   "metadata": {},
   "outputs": [
    {
     "name": "stdout",
     "output_type": "stream",
     "text": [
      "              precision    recall  f1-score   support\n",
      "\n",
      "           0       0.15      1.00      0.26      5973\n",
      "           1       0.00      0.00      0.00      4519\n",
      "           2       0.00      0.00      0.00      2040\n",
      "           3       0.00      0.00      0.00      2389\n",
      "           4       0.00      0.00      0.00      2119\n",
      "           5       0.00      0.00      0.00      5218\n",
      "           6       0.00      0.00      0.00      4452\n",
      "           7       0.00      0.00      0.00      4896\n",
      "           8       0.00      0.00      0.00      3095\n",
      "           9       0.00      0.00      0.00      5299\n",
      "\n",
      "    accuracy                           0.15     40000\n",
      "   macro avg       0.01      0.10      0.03     40000\n",
      "weighted avg       0.02      0.15      0.04     40000\n",
      "\n"
     ]
    },
    {
     "name": "stderr",
     "output_type": "stream",
     "text": [
      "C:\\Users\\acer\\anaconda3\\lib\\site-packages\\sklearn\\metrics\\_classification.py:1245: UndefinedMetricWarning: Precision and F-score are ill-defined and being set to 0.0 in labels with no predicted samples. Use `zero_division` parameter to control this behavior.\n",
      "  _warn_prf(average, modifier, msg_start, len(result))\n",
      "C:\\Users\\acer\\anaconda3\\lib\\site-packages\\sklearn\\metrics\\_classification.py:1245: UndefinedMetricWarning: Precision and F-score are ill-defined and being set to 0.0 in labels with no predicted samples. Use `zero_division` parameter to control this behavior.\n",
      "  _warn_prf(average, modifier, msg_start, len(result))\n",
      "C:\\Users\\acer\\anaconda3\\lib\\site-packages\\sklearn\\metrics\\_classification.py:1245: UndefinedMetricWarning: Precision and F-score are ill-defined and being set to 0.0 in labels with no predicted samples. Use `zero_division` parameter to control this behavior.\n",
      "  _warn_prf(average, modifier, msg_start, len(result))\n"
     ]
    }
   ],
   "source": [
    "# Now we can build a classification report\n",
    "print(metrics.classification_report(y_test, svc_model_predictions))"
   ]
  },
  {
   "cell_type": "code",
   "execution_count": 59,
   "metadata": {},
   "outputs": [
    {
     "name": "stdout",
     "output_type": "stream",
     "text": [
      "0.149325\n"
     ]
    }
   ],
   "source": [
    "# Now getting the overall accuracy of our Support Vector Machine\n",
    "print(metrics.accuracy_score(y_test,svc_model_predictions))"
   ]
  },
  {
   "cell_type": "markdown",
   "metadata": {},
   "source": [
    "It can be seen that Support Vector Classifier model has an accuracy of 14.93% which is least in all 4 models."
   ]
  },
  {
   "cell_type": "markdown",
   "metadata": {},
   "source": [
    "As we can see our results that the best model is Random Forest with an overall accuracy of 91.78%. All the steps taken to choose this model has been described thoroughly. Next, we will choose random questions from our dataset to further confirm the accuracy of our model.\n",
    "\n",
    "The SVC model took most time for processing, aroud 2 hours in total. Rest of the moodels run quick."
   ]
  },
  {
   "cell_type": "code",
   "execution_count": null,
   "metadata": {},
   "outputs": [],
   "source": []
  }
 ],
 "metadata": {
  "kernelspec": {
   "display_name": "Python 3",
   "language": "python",
   "name": "python3"
  },
  "language_info": {
   "codemirror_mode": {
    "name": "ipython",
    "version": 3
   },
   "file_extension": ".py",
   "mimetype": "text/x-python",
   "name": "python",
   "nbconvert_exporter": "python",
   "pygments_lexer": "ipython3",
   "version": "3.8.8"
  }
 },
 "nbformat": 4,
 "nbformat_minor": 4
}
